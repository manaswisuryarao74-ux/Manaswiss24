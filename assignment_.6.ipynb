{
 "cells": [
  {
   "cell_type": "markdown",
   "id": "a3d3b75e-b7b7-4681-8678-b72bfdc13cfe",
   "metadata": {},
   "source": [
    "Name :- Manaswi Suryarao\n",
    "Branch :- CO"
   ]
  },
  {
   "cell_type": "markdown",
   "id": "b79cc6f6-2bd2-4dd3-a30f-2473cc07e20d",
   "metadata": {},
   "source": [
    "# Q.No-1"
   ]
  },
  {
   "cell_type": "code",
   "execution_count": 2,
   "id": "68f2a1ab-12a2-4ade-9a00-f3552e2abcd9",
   "metadata": {},
   "outputs": [
    {
     "name": "stdout",
     "output_type": "stream",
     "text": [
      "\n",
      "Books to scrape (first 2 pages):\n",
      "{'title': 'In Her Wake', 'price': 'Â£12.84'}\n",
      "{'title': 'How Music Works', 'price': 'Â£37.32'}\n",
      "{'title': 'Foolproof Preserving: A Guide to Small Batch Jams, Jellies, Pickles, Condiments, and More: A Foolproof Guide to Making Small Batch Jams, Jellies, Pickles, Condiments, and More', 'price': 'Â£30.52'}\n",
      "{'title': 'Chase Me (Paris Nights #2)', 'price': 'Â£25.27'}\n",
      "{'title': 'Black Dust', 'price': 'Â£34.53'}\n",
      "{'title': 'Birdsong: A Story in Pictures', 'price': 'Â£54.64'}\n",
      "{'title': \"America's Cradle of Quarterbacks: Western Pennsylvania's Football Factory from Johnny Unitas to Joe Montana\", 'price': 'Â£22.50'}\n",
      "{'title': 'Aladdin and His Wonderful Lamp', 'price': 'Â£53.13'}\n",
      "{'title': 'Worlds Elsewhere: Journeys Around Shakespeareâ\\x80\\x99s Globe', 'price': 'Â£40.30'}\n",
      "{'title': 'Wall and Piece', 'price': 'Â£44.18'}\n",
      "{'title': 'The Four Agreements: A Practical Guide to Personal Freedom', 'price': 'Â£17.66'}\n",
      "{'title': 'The Five Love Languages: How to Express Heartfelt Commitment to Your Mate', 'price': 'Â£31.05'}\n",
      "{'title': 'The Elephant Tree', 'price': 'Â£23.82'}\n",
      "{'title': 'The Bear and the Piano', 'price': 'Â£36.89'}\n",
      "{'title': \"Sophie's World\", 'price': 'Â£15.94'}\n",
      "{'title': 'Penny Maybe', 'price': 'Â£33.29'}\n",
      "{'title': 'Maude (1883-1993):She Grew Up with the country', 'price': 'Â£18.02'}\n",
      "{'title': 'In a Dark, Dark Wood', 'price': 'Â£19.63'}\n",
      "{'title': 'Behind Closed Doors', 'price': 'Â£52.22'}\n",
      "{'title': \"You can't bury them all: Poems\", 'price': 'Â£33.63'}\n"
     ]
    }
   ],
   "source": [
    "import requests\n",
    "from bs4 import BeautifulSoup\n",
    "import pandas as pd\n",
    "\n",
    "books_data = []\n",
    "base_url = \"http://books.toscrape.com/catalogue/page-{}.html\"\n",
    "\n",
    "for page in range(1, 3):\n",
    "    url = base_url.format(page)\n",
    "    response = requests.get(url)\n",
    "    soup = BeautifulSoup(response.text,\"html.parser\")\n",
    "\n",
    "for book in soup.select(\".product_pod\"):\n",
    "    title = book.h3.a[\"title\"]\n",
    "    price = book.select_one(\".price_color\").text.strip()\n",
    "    books_data.append({\"title\": title, \"price\": price})\n",
    "\n",
    "print(\"\\nBooks to scrape (first 2 pages):\")\n",
    "for b in books_data:\n",
    "    print(b)"
   ]
  },
  {
   "cell_type": "markdown",
   "id": "9f9364c9-9721-4eed-b658-9ef46e2280bc",
   "metadata": {},
   "source": [
    "# Q.No-2"
   ]
  },
  {
   "cell_type": "code",
   "execution_count": 1,
   "id": "492cc30b-e932-4281-b817-6a9bb4a57af5",
   "metadata": {},
   "outputs": [
    {
     "name": "stdout",
     "output_type": "stream",
     "text": [
      "\n",
      "Weather Data:\n",
      "        city         description temperature\n",
      "0      Paris               Sunny       +31°C\n",
      "1      Dubai               Sunny       +39°C\n",
      "2  Singapore       Partly cloudy       +27°C\n",
      "3     Mumbai                Haze       +29°C\n",
      "4      Tokyo  Patchy rain nearby       +27°C\n"
     ]
    }
   ],
   "source": [
    "import requests\n",
    "from bs4 import BeautifulSoup\n",
    "import pandas as pd\n",
    "\n",
    "\n",
    "cities = [\"Paris\", \"Dubai\", \"Singapore\", \"Mumbai\", \"Tokyo\"]\n",
    "weather_data = []\n",
    "\n",
    "for city in cities:\n",
    "    url = f\"https://wttr.in/{city}?format=%C+%t\"\n",
    "    response = requests.get(url)\n",
    "    if response.status_code == 200:\n",
    "        description_temp = response.text.strip()\n",
    "        try:\n",
    "            description, temp = description_temp.rsplit(\" \", 1)\n",
    "        except ValueError:\n",
    "            description, temp = description_temp, \"\"\n",
    "        weather_data.append({\"city\": city, \"description\": description, \"temperature\": temp})\n",
    "\n",
    "weather_df = pd.DataFrame(weather_data)\n",
    "print(\"\\nWeather Data:\")\n",
    "print(weather_df)"
   ]
  },
  {
   "cell_type": "markdown",
   "id": "f2bdf587-eaab-4821-ae66-e721a1866de6",
   "metadata": {},
   "source": [
    "# Q.No-3"
   ]
  },
  {
   "cell_type": "code",
   "execution_count": 2,
   "id": "e74c94fa-d791-40a4-8865-c6a597197f71",
   "metadata": {},
   "outputs": [
    {
     "name": "stdout",
     "output_type": "stream",
     "text": [
      "Data saved to task_6.csv\n"
     ]
    }
   ],
   "source": [
    "jobs_data = []\n",
    "jobs_base_url = \"https://realpython.github.io/fake-jobs/page-{}.html\"\n",
    "\n",
    "for page in range(1, 4):\n",
    "    url = jobs_base_url.format(page)\n",
    "    response = requests.get(url)\n",
    "    soup = BeautifulSoup(response.text, \"html.parser\")\n",
    "    \n",
    "    for job_card in soup.select(\".card-content\"):\n",
    "        title = job_card.find(\"h1\", class_=\"title\").text.strip()\n",
    "        company = job_card.find(\"h3\", class_=\"company\").text.strip()\n",
    "        location = job_card.find(\"p\", class_=\"location\").text.strip()\n",
    "        jobs_data.append({\"title\": title, \"company\": company, \"location\": location})\n",
    "\n",
    "jobs_df = pd.DataFrame(jobs_data)\n",
    "jobs_df.to_csv(\"task_6\", index=False)\n",
    "\n",
    "print(\"Data saved to task_6.csv\")\n"
   ]
  }
 ],
 "metadata": {
  "kernelspec": {
   "display_name": "Python 3 (ipykernel)",
   "language": "python",
   "name": "python3"
  },
  "language_info": {
   "codemirror_mode": {
    "name": "ipython",
    "version": 3
   },
   "file_extension": ".py",
   "mimetype": "text/x-python",
   "name": "python",
   "nbconvert_exporter": "python",
   "pygments_lexer": "ipython3",
   "version": "3.13.5"
  }
 },
 "nbformat": 4,
 "nbformat_minor": 5
}
